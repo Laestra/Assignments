{
 "cells": [
  {
   "cell_type": "markdown",
   "id": "f7df506b-ed4c-4c4f-9e43-ea372af4b438",
   "metadata": {},
   "source": [
    "# Data Science Tools and Ecosystem"
   ]
  },
  {
   "cell_type": "markdown",
   "id": "4950f28b-f739-4a73-8293-d3475dd14cdc",
   "metadata": {},
   "source": [
    "### Introduction:\n",
    "\n",
    "In this notebook, Data Science Tools and Ecosystem are summarized."
   ]
  },
  {
   "cell_type": "markdown",
   "id": "ee504510-2aa8-4c4d-89f2-c469c44c748f",
   "metadata": {},
   "source": [
    "**Objectives:**\n",
    "\n",
    "* Data Science popular languages\n",
    "* Data science most used tools\n",
    "* Creating markdown cells in Jupyter Notebook\n",
    "* Creating ordered and unoreder lists in Jupyter Notebook\n",
    "* Creating a simple table\n",
    "* Performing simple arithmetic operations in Jupyter Notebook"
   ]
  },
  {
   "cell_type": "code",
   "execution_count": null,
   "id": "9153dfc5-ddb1-4469-8ae3-56a9db9e9c25",
   "metadata": {},
   "outputs": [],
   "source": []
  },
  {
   "cell_type": "markdown",
   "id": "18690723-3b70-46dd-95a0-dcf58e1fd4fb",
   "metadata": {},
   "source": [
    "##### Some of the popular languages that Data Scientists use are:\n",
    "1. Python\n",
    "2. R\n",
    "3. SQL\n"
   ]
  },
  {
   "cell_type": "code",
   "execution_count": null,
   "id": "55b86661-b42b-4bb7-8502-32c7443c2563",
   "metadata": {},
   "outputs": [],
   "source": []
  },
  {
   "cell_type": "markdown",
   "id": "4e96ca54-c8bd-4ffc-bf9e-a78e495bf86f",
   "metadata": {},
   "source": [
    "##### Some of the commonly used libraries used by Data Scientists include:\n",
    "1. Numpy\n",
    "2. SciPy\n",
    "3. Pandas\n"
   ]
  },
  {
   "cell_type": "code",
   "execution_count": null,
   "id": "8d8f8d4d-f1c7-439e-9fd9-2706ce05e137",
   "metadata": {},
   "outputs": [],
   "source": []
  },
  {
   "cell_type": "markdown",
   "id": "7335f306-863b-4a11-ac56-4d62f631950f",
   "metadata": {},
   "source": [
    "|Data Science Tools|\n",
    "|------------------|\n",
    "|RStudio|\n",
    "|Jupyter Notebook|\n",
    "|Hadoop|\n"
   ]
  },
  {
   "cell_type": "code",
   "execution_count": null,
   "id": "b7c18d23-f60b-456d-9201-d6bcd881ff73",
   "metadata": {},
   "outputs": [],
   "source": []
  },
  {
   "cell_type": "markdown",
   "id": "bad55720-596a-4ca4-b2d0-413e94f0929d",
   "metadata": {},
   "source": [
    "### Below are a few examples of evaluating arithmetic expressions in Python."
   ]
  },
  {
   "cell_type": "code",
   "execution_count": null,
   "id": "57a8004d-7773-4025-803d-cf8a7943f4a3",
   "metadata": {},
   "outputs": [],
   "source": []
  },
  {
   "cell_type": "code",
   "execution_count": 7,
   "id": "b393b61a-57b8-40e7-a904-14329549be11",
   "metadata": {
    "scrolled": true
   },
   "outputs": [
    {
     "data": {
      "text/plain": [
       "17"
      ]
     },
     "execution_count": 7,
     "metadata": {},
     "output_type": "execute_result"
    }
   ],
   "source": [
    "#This a simple arithmetic expression to mutiply then add integers.\n",
    "(3*4)+5"
   ]
  },
  {
   "cell_type": "code",
   "execution_count": 10,
   "id": "827127fb-2849-4c44-8169-3f465d05fe1b",
   "metadata": {},
   "outputs": [
    {
     "data": {
      "text/plain": [
       "3"
      ]
     },
     "execution_count": 10,
     "metadata": {},
     "output_type": "execute_result"
    }
   ],
   "source": [
    "#This will convert 200 minutes to hours by diving by 60\n",
    "200//60"
   ]
  },
  {
   "cell_type": "code",
   "execution_count": 11,
   "id": "b042f6ad-420e-4faf-943d-7b2f9965fa3a",
   "metadata": {},
   "outputs": [
    {
     "data": {
      "text/plain": [
       "3.3333333333333335"
      ]
     },
     "execution_count": 11,
     "metadata": {},
     "output_type": "execute_result"
    }
   ],
   "source": [
    "200/60"
   ]
  },
  {
   "cell_type": "markdown",
   "id": "7bba0e32-deb0-453f-9396-c7b781c33559",
   "metadata": {},
   "source": []
  },
  {
   "cell_type": "markdown",
   "id": "7118a5e7-9e9a-46d6-b65f-9864848a4263",
   "metadata": {},
   "source": [
    "## Author\n",
    "Svetlana I."
   ]
  },
  {
   "cell_type": "code",
   "execution_count": null,
   "id": "8f226374-dcb9-414c-b47a-dc0c9d10de44",
   "metadata": {},
   "outputs": [],
   "source": []
  }
 ],
 "metadata": {
  "kernelspec": {
   "display_name": "Python 3 (ipykernel)",
   "language": "python",
   "name": "python3"
  },
  "language_info": {
   "codemirror_mode": {
    "name": "ipython",
    "version": 3
   },
   "file_extension": ".py",
   "mimetype": "text/x-python",
   "name": "python",
   "nbconvert_exporter": "python",
   "pygments_lexer": "ipython3",
   "version": "3.11.7"
  }
 },
 "nbformat": 4,
 "nbformat_minor": 5
}
